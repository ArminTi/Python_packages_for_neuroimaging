{
 "cells": [
  {
   "cell_type": "code",
   "execution_count": 27,
   "id": "2a9c63f0-38d6-483e-ab1e-ad2683612798",
   "metadata": {},
   "outputs": [],
   "source": [
    "from bids import BIDSLayout\n",
    "import os\n",
    "import nibabel as nib\n",
    "import numpy as np\n",
    "os.chdir(r'C:\\Users\\ASUS\\Data science in neuroimaging\\ndslib-main')"
   ]
  },
  {
   "cell_type": "code",
   "execution_count": 8,
   "id": "7ec7ce18-88f9-4adb-b30a-a7684159ab2e",
   "metadata": {},
   "outputs": [
    {
     "data": {
      "text/plain": [
       "'C:\\\\Users\\\\ASUS\\\\Data science in neuroimaging\\\\ndslib-main\\\\ds001233\\\\sub-17\\\\ses-pre\\\\func\\\\sub-17_ses-pre_task-cuedSFM_run-01_bold.nii.gz'"
      ]
     },
     "execution_count": 8,
     "metadata": {},
     "output_type": "execute_result"
    }
   ],
   "source": [
    "layout = BIDSLayout(\"ds001233\")\n",
    "sub17 = layout.get(subject = '17', suffix=\"bold\", return_type='filename')\n",
    "img_bold = sub17[1]\n",
    "img_bold"
   ]
  },
  {
   "cell_type": "code",
   "execution_count": 15,
   "id": "90c53f60-5807-4aa4-9758-6f769fff3949",
   "metadata": {},
   "outputs": [],
   "source": [
    "bold_data = nib.load(img_bold).get_fdata()"
   ]
  },
  {
   "cell_type": "code",
   "execution_count": 19,
   "id": "a368bde6-16f4-4a45-8768-987d00b03d8c",
   "metadata": {},
   "outputs": [
    {
     "data": {
      "text/plain": [
       "(96, 96, 66, 241)"
      ]
     },
     "execution_count": 19,
     "metadata": {},
     "output_type": "execute_result"
    }
   ],
   "source": [
    "bold_data.shape"
   ]
  },
  {
   "cell_type": "markdown",
   "id": "25e5284b-3308-4be9-817a-c13f67193dde",
   "metadata": {},
   "source": [
    "### tSNR"
   ]
  },
  {
   "cell_type": "markdown",
   "id": "ef243d73-6494-44af-bbc6-96b36e5c1daa",
   "metadata": {},
   "source": [
    "This is quantified as the mean signal in the voxel across time points, divided by the standard deviation of the signal across time points. "
   ]
  },
  {
   "cell_type": "code",
   "execution_count": 41,
   "id": "917c003d-0f8a-4e51-9c24-284fdcecff7e",
   "metadata": {},
   "outputs": [
    {
     "name": "stderr",
     "output_type": "stream",
     "text": [
      "C:\\Users\\ASUS\\AppData\\Local\\Temp\\ipykernel_12684\\19230104.py:1: RuntimeWarning: invalid value encountered in divide\n",
      "  tsnr_numpy = np.mean(bold_data, -1) / np.std(bold_data, -1)\n"
     ]
    }
   ],
   "source": [
    "tsnr_numpy = np.mean(bold_data, -1) / np.std(bold_data, -1)"
   ]
  },
  {
   "cell_type": "code",
   "execution_count": 31,
   "id": "298090da-9299-4cfd-902a-1512dcc56a84",
   "metadata": {},
   "outputs": [
    {
     "data": {
      "text/plain": [
       "(96, 96, 66)"
      ]
     },
     "execution_count": 31,
     "metadata": {},
     "output_type": "execute_result"
    }
   ],
   "source": [
    "X = np.mean(bold_data, -1)\n",
    "X.shape"
   ]
  },
  {
   "cell_type": "code",
   "execution_count": 43,
   "id": "574c1ede-e744-4946-921f-ca42635880e2",
   "metadata": {},
   "outputs": [],
   "source": [
    "# Alternative\n",
    "from nipype.algorithms.confounds import TSNR"
   ]
  },
  {
   "cell_type": "code",
   "execution_count": 45,
   "id": "9aae82a3-0dde-4f4c-872e-450928ba89a5",
   "metadata": {},
   "outputs": [],
   "source": [
    "tsnr = TSNR()\n",
    "tsnr.inputs.in_file = img_bold\n",
    "res = tsnr.run()"
   ]
  },
  {
   "cell_type": "code",
   "execution_count": 47,
   "id": "21d47cdc-8404-4a82-98ce-9967a02fc799",
   "metadata": {},
   "outputs": [
    {
     "data": {
      "text/plain": [
       "<nipype.interfaces.base.support.InterfaceResult at 0x2040f32de40>"
      ]
     },
     "execution_count": 47,
     "metadata": {},
     "output_type": "execute_result"
    }
   ],
   "source": [
    "res"
   ]
  },
  {
   "cell_type": "code",
   "execution_count": null,
   "id": "b83e9e1f-d902-4451-b2dd-0385ae8696c9",
   "metadata": {},
   "outputs": [],
   "source": []
  }
 ],
 "metadata": {
  "kernelspec": {
   "display_name": "Python 3 (ipykernel)",
   "language": "python",
   "name": "python3"
  },
  "language_info": {
   "codemirror_mode": {
    "name": "ipython",
    "version": 3
   },
   "file_extension": ".py",
   "mimetype": "text/x-python",
   "name": "python",
   "nbconvert_exporter": "python",
   "pygments_lexer": "ipython3",
   "version": "3.10.14"
  }
 },
 "nbformat": 4,
 "nbformat_minor": 5
}
