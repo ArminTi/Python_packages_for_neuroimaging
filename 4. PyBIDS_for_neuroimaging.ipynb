{
 "cells": [
  {
   "cell_type": "markdown",
   "id": "7a32ef10-6814-4237-b588-27d42ed15a83",
   "metadata": {},
   "source": [
    "## Data Structure in neuroimaging"
   ]
  },
  {
   "cell_type": "markdown",
   "id": "f513282c-ed41-4b09-9b7e-6364348d4d52",
   "metadata": {},
   "source": [
    "BIDS format\n",
    "subject –> session –> run"
   ]
  },
  {
   "cell_type": "markdown",
   "id": "225da3ed-7114-4aaa-856d-a7b23c03bf82",
   "metadata": {},
   "source": [
    "1. Every data file should be accompanied by a JavaScript Object Notation (JSON) sidecar containing metadata describing that file. For example, a BOLD data file might be accompanied by a sidecar file that describes acquisition parameters, such as repetition time.\n",
    "\n",
    "2.  BIDS follows an inheritance principle, meaning that JSON metadata files higher u \r",
    "in the hierarchy automatically apply to relevant files lower in the hierarchy unles \r",
    "explicitly overridden. For example, if all of the BOLD data in a single data set wa \r",
    "acquired using the same protocol, this metadata need not be replicated in eac \r",
    "subject’s data folde\n",
    "\n",
    "3. • Every project is required to have a dataset_description.json file at t e\r",
    "root level that contains basic information about the project (e.g., the name of t e\r",
    "data set and a description of its constituents, as well as citation informatio\n",
    "\n",
    "4. \n",
    "• BIDS does not actively prohibit you from including non-BIDS-compliant files in\r",
    "a BIDS project, so you do not have to just throw out files that you cannot eas ly\r",
    "shoehorn into the BIDS format. The downside of including noncompliant files is\r",
    "just that most BIDS tools and/or human users will not know what to do with th m,\r",
    "so your data set might not be quite as useful as it otherwise would be."
   ]
  },
  {
   "cell_type": "markdown",
   "id": "37518405-c061-4140-bf86-b42d056f380f",
   "metadata": {},
   "source": [
    "### PyBIDS "
   ]
  },
  {
   "cell_type": "markdown",
   "id": "a82345e7-0e78-450e-af7a-4f45bc2d37f8",
   "metadata": {},
   "source": [
    "Provides a convenient Python interface for basic querying and manipulation of BIDS data sets."
   ]
  },
  {
   "cell_type": "code",
   "execution_count": 17,
   "id": "400f696f-413d-4af4-9044-66bf15627863",
   "metadata": {},
   "outputs": [],
   "source": [
    "from bids import BIDSLayout\n",
    "import os"
   ]
  },
  {
   "cell_type": "code",
   "execution_count": 19,
   "id": "67dda836-aabf-4a85-8664-82baaa1d0d98",
   "metadata": {},
   "outputs": [
    {
     "name": "stdout",
     "output_type": "stream",
     "text": [
      "BIDS Layout: ...science for neuroimaging\\ds005 | Subjects: 16 | Sessions: 0 | Runs: 48\n"
     ]
    }
   ],
   "source": [
    "# Here we're using an example BIDS dataset that's bundled with the pybids tests\n",
    "path = \"D:/Interdisciplinary/data science for neuroimaging\"\n",
    "layout = BIDSLayout(path + \"/ds005\")\n",
    "print(layout)"
   ]
  },
  {
   "cell_type": "code",
   "execution_count": 21,
   "id": "c89062de-0afe-49b2-ae47-4219fabf8d86",
   "metadata": {},
   "outputs": [
    {
     "data": {
      "text/plain": [
       "['D:\\\\Interdisciplinary\\\\data science for neuroimaging\\\\ds005\\\\sub-01\\\\anat\\\\sub-01_T1w.nii.gz',\n",
       " 'D:\\\\Interdisciplinary\\\\data science for neuroimaging\\\\ds005\\\\sub-02\\\\anat\\\\sub-02_T1w.nii.gz']"
      ]
     },
     "execution_count": 21,
     "metadata": {},
     "output_type": "execute_result"
    }
   ],
   "source": [
    "layout.get(subject=['01', '02'], suffix=\"T1w\", return_type='filename')"
   ]
  },
  {
   "cell_type": "code",
   "execution_count": 23,
   "id": "84bbbfd8-7f8a-49ee-91d3-8c1e491c139d",
   "metadata": {},
   "outputs": [
    {
     "data": {
      "text/plain": [
       "['D:\\\\Interdisciplinary\\\\data science for neuroimaging\\\\ds005\\\\sub-03\\\\func\\\\sub-03_task-mixedgamblestask_run-01_bold.nii.gz',\n",
       " 'D:\\\\Interdisciplinary\\\\data science for neuroimaging\\\\ds005\\\\sub-03\\\\func\\\\sub-03_task-mixedgamblestask_run-02_bold.nii.gz',\n",
       " 'D:\\\\Interdisciplinary\\\\data science for neuroimaging\\\\ds005\\\\sub-03\\\\func\\\\sub-03_task-mixedgamblestask_run-03_bold.nii.gz']"
      ]
     },
     "execution_count": 23,
     "metadata": {},
     "output_type": "execute_result"
    }
   ],
   "source": [
    "layout.get(subject='03', suffix=\"bold\", return_type='filename')"
   ]
  },
  {
   "cell_type": "code",
   "execution_count": 25,
   "id": "6919930c-ec47-42bd-b4da-1ebddf2469e7",
   "metadata": {},
   "outputs": [],
   "source": [
    "bids_files = layout.get(subject=\"03\", suffix=\"bold\")\n",
    "bids_image = bids_files[0]"
   ]
  },
  {
   "cell_type": "code",
   "execution_count": 29,
   "id": "c411099a-19f7-4067-869d-d9bd6675edcf",
   "metadata": {},
   "outputs": [
    {
     "data": {
      "text/plain": [
       "{'datatype': 'func',\n",
       " 'extension': '.nii.gz',\n",
       " 'run': 01,\n",
       " 'subject': '03',\n",
       " 'suffix': 'bold',\n",
       " 'task': 'mixedgamblestask'}"
      ]
     },
     "execution_count": 29,
     "metadata": {},
     "output_type": "execute_result"
    }
   ],
   "source": [
    "bids_image.get_entities()"
   ]
  },
  {
   "cell_type": "code",
   "execution_count": 31,
   "id": "1dd3b4ae-6861-450b-9602-d404a2eb87b6",
   "metadata": {},
   "outputs": [
    {
     "name": "stdout",
     "output_type": "stream",
     "text": [
      "<BIDSDataFile filename='D:\\Interdisciplinary\\data science for neuroimaging\\ds005\\sub-03\\func\\sub-03_task-mixedgamblestask_run-03_events.tsv'>\n"
     ]
    }
   ],
   "source": [
    "events = layout.get(subject='03', extension=\".tsv\", task=\"mixedgamblestask\", run=\"03\")\n",
    "tsv_file = events[0]\n",
    "print(tsv_file)"
   ]
  },
  {
   "cell_type": "code",
   "execution_count": 33,
   "id": "735a0705-0d2c-4bd0-b59a-2563ff5fc289",
   "metadata": {},
   "outputs": [
    {
     "name": "stdout",
     "output_type": "stream",
     "text": [
      "<class 'pandas.core.frame.DataFrame'>\n",
      "RangeIndex: 85 entries, 0 to 84\n",
      "Data columns (total 12 columns):\n",
      " #   Column                      Non-Null Count  Dtype  \n",
      "---  ------                      --------------  -----  \n",
      " 0   onset                       85 non-null     float64\n",
      " 1   duration                    85 non-null     float64\n",
      " 2   trial_type                  85 non-null     object \n",
      " 3   parametric gain             85 non-null     float64\n",
      " 4   distance from indifference  0 non-null      float64\n",
      " 5   parametric loss             0 non-null      float64\n",
      " 6   gain                        85 non-null     int64  \n",
      " 7   loss                        85 non-null     int64  \n",
      " 8   PTval                       85 non-null     float64\n",
      " 9   respnum                     85 non-null     int64  \n",
      " 10  respcat                     85 non-null     int64  \n",
      " 11  response_time               85 non-null     float64\n",
      "dtypes: float64(7), int64(4), object(1)\n",
      "memory usage: 8.1+ KB\n"
     ]
    }
   ],
   "source": [
    "bids_df = tsv_file.get_df()\n",
    "bids_df.info()"
   ]
  },
  {
   "cell_type": "markdown",
   "id": "8dd656ed-93f1-464d-b9f3-31e046054619",
   "metadata": {},
   "source": [
    "## Reading neuroimaging data with Nibabel"
   ]
  },
  {
   "cell_type": "code",
   "execution_count": 38,
   "id": "ad53beba-2e0a-401c-9751-c683aac710b9",
   "metadata": {},
   "outputs": [],
   "source": [
    "import os\n",
    "os.chdir(r'C:\\Users\\ASUS\\Data science in neuroimaging\\ndslib-main')\n",
    "from ndslib.data import download_bids_dataset\n",
    "download_bids_dataset()"
   ]
  },
  {
   "cell_type": "code",
   "execution_count": 56,
   "id": "6e338f5a-e5f1-4836-ab63-052693650588",
   "metadata": {},
   "outputs": [
    {
     "data": {
      "text/plain": [
       "'C:\\\\Users\\\\ASUS\\\\Data science in neuroimaging\\\\ndslib-main\\\\ds001233\\\\sub-17\\\\ses-pre\\\\func\\\\sub-17_ses-pre_task-cuedSFM_run-01_bold.nii.gz'"
      ]
     },
     "execution_count": 56,
     "metadata": {},
     "output_type": "execute_result"
    }
   ],
   "source": [
    "layout = BIDSLayout(\"ds001233\")\n",
    "sub17 = layout.get(subject = '17', suffix=\"bold\", return_type='filename')\n",
    "img_bold = sub17[1]\n",
    "img_bold"
   ]
  },
  {
   "cell_type": "code",
   "execution_count": 58,
   "id": "2d0ccb1e-3211-43c4-80dc-973ff3d5f2a6",
   "metadata": {},
   "outputs": [],
   "source": [
    "import nibabel as nib\n",
    "img_bold = nib.load(img_bold)"
   ]
  },
  {
   "cell_type": "code",
   "execution_count": 62,
   "id": "4e55ca49-87dd-437e-abc8-d4385ab52e76",
   "metadata": {},
   "outputs": [
    {
     "data": {
      "text/plain": [
       "(96, 96, 66, 241)"
      ]
     },
     "execution_count": 62,
     "metadata": {},
     "output_type": "execute_result"
    }
   ],
   "source": [
    "img_bold.shape"
   ]
  },
  {
   "cell_type": "code",
   "execution_count": 70,
   "id": "798354d0-4278-4716-9058-7ef709dc4958",
   "metadata": {},
   "outputs": [
    {
     "data": {
      "text/plain": [
       "nibabel.nifti1.Nifti1Image"
      ]
     },
     "execution_count": 70,
     "metadata": {},
     "output_type": "execute_result"
    }
   ],
   "source": [
    "type(img_bold)"
   ]
  },
  {
   "cell_type": "code",
   "execution_count": 68,
   "id": "0fb5cd21-f200-4dd3-a7d2-496b38ba7a7e",
   "metadata": {},
   "outputs": [
    {
     "data": {
      "text/plain": [
       "numpy.ndarray"
      ]
     },
     "execution_count": 68,
     "metadata": {},
     "output_type": "execute_result"
    }
   ],
   "source": [
    "data_bold = img_bold.get_fdata()\n",
    "type(data_bold)"
   ]
  },
  {
   "cell_type": "code",
   "execution_count": 72,
   "id": "2985c90c-6965-46f6-adde-154ab8c47ae5",
   "metadata": {},
   "outputs": [
    {
     "data": {
      "text/plain": [
       "(96, 96, 66, 241)"
      ]
     },
     "execution_count": 72,
     "metadata": {},
     "output_type": "execute_result"
    }
   ],
   "source": [
    "data_bold.shape"
   ]
  },
  {
   "cell_type": "code",
   "execution_count": null,
   "id": "3251e720-1dac-41b6-80cd-8e1f7ad6bb03",
   "metadata": {},
   "outputs": [],
   "source": []
  }
 ],
 "metadata": {
  "kernelspec": {
   "display_name": "Python 3 (ipykernel)",
   "language": "python",
   "name": "python3"
  },
  "language_info": {
   "codemirror_mode": {
    "name": "ipython",
    "version": 3
   },
   "file_extension": ".py",
   "mimetype": "text/x-python",
   "name": "python",
   "nbconvert_exporter": "python",
   "pygments_lexer": "ipython3",
   "version": "3.10.14"
  }
 },
 "nbformat": 4,
 "nbformat_minor": 5
}
